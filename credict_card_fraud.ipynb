{
  "nbformat": 4,
  "nbformat_minor": 0,
  "metadata": {
    "colab": {
      "provenance": [],
      "authorship_tag": "ABX9TyOIOrOO2sJLRif+sh5Q+k6I",
      "include_colab_link": true
    },
    "kernelspec": {
      "name": "python3",
      "display_name": "Python 3"
    },
    "language_info": {
      "name": "python"
    }
  },
  "cells": [
    {
      "cell_type": "markdown",
      "metadata": {
        "id": "view-in-github",
        "colab_type": "text"
      },
      "source": [
        "<a href=\"https://colab.research.google.com/github/VPOOJE/CODSOFT_INTERN/blob/main/credict_card_fraud.ipynb\" target=\"_parent\"><img src=\"https://colab.research.google.com/assets/colab-badge.svg\" alt=\"Open In Colab\"/></a>"
      ]
    },
    {
      "cell_type": "code",
      "source": [
        "'''Hello everyone!This is pooja v\n",
        "Intern at Codsoft,India.\n",
        "\n",
        "I'm very thrilled to share my SECOND task at codsoft internship summer 2024.'''\n",
        "\n",
        "#AUTHOR : POOJA V\n",
        "#TASK NAME:Spam SMS detection\n",
        "#4th task in the list of tasks\n",
        "#Task category : Machine learning\n",
        "#DAT OF SUMMISION : 14 JULY 2024\n",
        "#LINKEDIN PROGILE: https://www.linkedin.com/in/pooja-v-b80889258\n",
        "#GITHUB PROGILE: https://github.com/VPOOJE/CODSOFT_INTERN"
      ],
      "metadata": {
        "id": "a2_7MJRTOHCB"
      },
      "execution_count": 39,
      "outputs": []
    },
    {
      "cell_type": "code",
      "source": [
        "import pandas as pd\n",
        "import numpy as np\n",
        "from sklearn.model_selection import train_test_split\n",
        "from sklearn.feature_extraction.text import TfidfVectorizer\n",
        "from sklearn.naive_bayes import MultinomialNB\n",
        "from sklearn.metrics import accuracy_score, classification_report\n",
        "from tqdm import tqdm"
      ],
      "metadata": {
        "id": "f6dgCsKRQ6gB"
      },
      "execution_count": 52,
      "outputs": []
    },
    {
      "cell_type": "code",
      "source": [
        "data=pd.read_csv('spam.csv',encoding='latin-1')"
      ],
      "metadata": {
        "id": "RIWOwv9_Nc4Y"
      },
      "execution_count": 40,
      "outputs": []
    },
    {
      "cell_type": "code",
      "source": [
        "data.drop_duplicates(inplace=True)\n",
        "data['label']=data['v1'].map({'ham':'ham','spam':'sapm'})\n",
        "x=data['v2']\n",
        "y=data['label']"
      ],
      "metadata": {
        "id": "J67_MFGfKg8Y"
      },
      "execution_count": 41,
      "outputs": []
    },
    {
      "cell_type": "code",
      "source": [
        "X_train,X_test,y_train,y_test=train_test_split(x,y,test_size=0.2,random_state=42)"
      ],
      "metadata": {
        "id": "Hr21PoJDLEuG"
      },
      "execution_count": 42,
      "outputs": []
    },
    {
      "cell_type": "code",
      "source": [
        "tfidy_vectorizer=TfidfVectorizer()\n",
        "X_train_tfidy=tfidy_vectorizer.fit_transform(X_train)\n",
        "classifier=MultinomialNB()\n",
        "classifier.fit(X_train_tfidy,y_train)\n",
        "X_test_tfidy=tfidy_vectorizer.transform(X_test)"
      ],
      "metadata": {
        "id": "73WwcywJLben"
      },
      "execution_count": 43,
      "outputs": []
    },
    {
      "cell_type": "code",
      "source": [
        "y_pred=classifier.predict(X_test_tfidy)"
      ],
      "metadata": {
        "id": "5GCbN2HLLqqQ"
      },
      "execution_count": 44,
      "outputs": []
    },
    {
      "cell_type": "code",
      "source": [
        "X_test_tfidy=tfidy_vectorizer.transform(X_test)\n",
        "y_pred=classifier.predict(X_test_tfidy)"
      ],
      "metadata": {
        "id": "4tL2agz0L2F4"
      },
      "execution_count": 45,
      "outputs": []
    },
    {
      "cell_type": "code",
      "source": [
        "accuracy=accuracy_score(y_test,y_pred)\n"
      ],
      "metadata": {
        "id": "uO38GrZoMFGl"
      },
      "execution_count": 46,
      "outputs": []
    },
    {
      "cell_type": "code",
      "source": [
        "report=classification_report(y_test,y_pred,target_names=['Legitime SMS','Spam SMS'])"
      ],
      "metadata": {
        "id": "PwY-W8B-MTkA"
      },
      "execution_count": 47,
      "outputs": []
    },
    {
      "cell_type": "code",
      "source": [
        "progress_bar=tqdm(total=100,position=0,leave=True)\n",
        "for i in range(10,101,10):\n",
        "    progress_bar.update(10)\n",
        "    progress_bar.set_description(f\"Progress: {i}%\")\n",
        ""
      ],
      "metadata": {
        "colab": {
          "base_uri": "https://localhost:8080/"
        },
        "id": "QYwgOIX3Mmuq",
        "outputId": "12689ca0-508e-49db-a519-18c60ec96ef8"
      },
      "execution_count": 48,
      "outputs": [
        {
          "output_type": "stream",
          "name": "stderr",
          "text": [
            "Progress: 100%: 100%|██████████| 100/100 [00:00<00:00, 6940.76it/s]"
          ]
        }
      ]
    },
    {
      "cell_type": "code",
      "source": [
        "progress_bar.close()"
      ],
      "metadata": {
        "colab": {
          "base_uri": "https://localhost:8080/"
        },
        "id": "Itej-m6jNDlZ",
        "outputId": "857102b8-d135-48c8-9ad5-92980562c496"
      },
      "execution_count": 49,
      "outputs": [
        {
          "output_type": "stream",
          "name": "stderr",
          "text": [
            "\rProgress: 100%: 100%|██████████| 100/100 [00:03<00:00, 30.23it/s]  \n"
          ]
        }
      ]
    },
    {
      "cell_type": "code",
      "source": [
        "print(f'Accuracy: {accuracy:.2f}')\n",
        "print('Classification Report:')\n",
        "print(report)"
      ],
      "metadata": {
        "colab": {
          "base_uri": "https://localhost:8080/"
        },
        "id": "7Alx818QNHwo",
        "outputId": "54bbac4f-05be-4904-c514-ee704c5101b8"
      },
      "execution_count": 50,
      "outputs": [
        {
          "output_type": "stream",
          "name": "stdout",
          "text": [
            "Accuracy: 0.96\n",
            "Classification Report:\n",
            "              precision    recall  f1-score   support\n",
            "\n",
            "Legitime SMS       0.95      1.00      0.97       889\n",
            "    Spam SMS       1.00      0.68      0.81       145\n",
            "\n",
            "    accuracy                           0.96      1034\n",
            "   macro avg       0.98      0.84      0.89      1034\n",
            "weighted avg       0.96      0.96      0.95      1034\n",
            "\n"
          ]
        }
      ]
    }
  ]
}